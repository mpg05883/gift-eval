{
 "cells": [
  {
   "cell_type": "markdown",
   "metadata": {},
   "source": [
    "# Dataset Info"
   ]
  },
  {
   "cell_type": "markdown",
   "metadata": {},
   "source": [
    "This notebook contains code to generate a CSV file containg information on the datasets in the GIFT-Eval Train-Test split."
   ]
  },
  {
   "cell_type": "markdown",
   "metadata": {},
   "source": [
    "Define helper functions."
   ]
  },
  {
   "cell_type": "code",
   "execution_count": 3,
   "metadata": {},
   "outputs": [],
   "source": [
    "def get_key(name) -> str:\n",
    "    \"\"\"\n",
    "    Returns the dataset's key for accessing dataset infomation in\n",
    "    dataset_properties.json (e.g. domain and number of variates)\n",
    "\n",
    "    Args:\n",
    "        name (str): Name of the dataset.\n",
    "    \"\"\"\n",
    "    pretty_names = {\n",
    "        \"saugeenday\": \"saugeen\",\n",
    "        \"temperature_rain_with_missing\": \"temperature_rain\",\n",
    "        \"kdd_cup_2018_with_missing\": \"kdd_cup_2018\",\n",
    "        \"car_parts_with_missing\": \"car_parts\",\n",
    "    }\n",
    "    key = name.split(\"/\")[0] if \"/\" in name else name\n",
    "    key = key.lower()\n",
    "    return pretty_names.get(key, key)"
   ]
  },
  {
   "cell_type": "markdown",
   "metadata": {},
   "source": [
    "Get each dataset's information."
   ]
  },
  {
   "cell_type": "code",
   "execution_count": 7,
   "metadata": {},
   "outputs": [
    {
     "name": "stderr",
     "output_type": "stream",
     "text": [
      "Reading datasets: 100%|██████████| 97/97 [00:00<00:00, 119.87dataset/s]\n"
     ]
    }
   ],
   "source": [
    "import pandas as pd\n",
    "import json\n",
    "from tqdm import tqdm\n",
    "from src.gift_eval.data import Dataset\n",
    "\n",
    "df = pd.read_csv(\"train_test_datasets.csv\")\n",
    "dataset_properties = json.load(open(\"notebooks/dataset_properties.json\"))\n",
    "\n",
    "kwargs = {\n",
    "    \"desc\": \"Reading datasets\",\n",
    "    \"total\": len(df),\n",
    "    \"unit\": \"dataset\",\n",
    "}\n",
    "\n",
    "rows = []\n",
    "for i, row in tqdm(df.iterrows(), **kwargs):\n",
    "    name, term = row[\"name\"], row[\"term\"]\n",
    "    dataset = Dataset(name, term)\n",
    "    key = get_key(name)\n",
    "    row = {\n",
    "        \"name\": name,\n",
    "        \"term\": term,\n",
    "        \"freq\": dataset.freq,\n",
    "        \"prediction_length\": dataset.prediction_length,\n",
    "        \"target_dim\": dataset.target_dim,\n",
    "        \"windows\": dataset.windows,\n",
    "        \"_min_series_length\": dataset._min_series_length,\n",
    "        \"sum_series_length\": dataset.sum_series_length,\n",
    "        \"domain\": dataset_properties[key][\"domain\"],\n",
    "        \"num_variates\": dataset_properties[key][\"num_variates\"],\n",
    "    }\n",
    "    rows.append(row)\n",
    "\n",
    "new_df = pd.DataFrame(rows)\n",
    "new_df.to_csv(\"train_test_datasets.csv\", index=False)"
   ]
  }
 ],
 "metadata": {
  "kernelspec": {
   "display_name": "gift",
   "language": "python",
   "name": "python3"
  },
  "language_info": {
   "codemirror_mode": {
    "name": "ipython",
    "version": 3
   },
   "file_extension": ".py",
   "mimetype": "text/x-python",
   "name": "python",
   "nbconvert_exporter": "python",
   "pygments_lexer": "ipython3",
   "version": "3.11.11"
  }
 },
 "nbformat": 4,
 "nbformat_minor": 2
}
