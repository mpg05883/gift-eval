{
 "cells": [
  {
   "cell_type": "code",
   "execution_count": 1,
   "metadata": {},
   "outputs": [
    {
     "data": {
      "text/html": [
       "<div>\n",
       "<style scoped>\n",
       "    .dataframe tbody tr th:only-of-type {\n",
       "        vertical-align: middle;\n",
       "    }\n",
       "\n",
       "    .dataframe tbody tr th {\n",
       "        vertical-align: top;\n",
       "    }\n",
       "\n",
       "    .dataframe thead th {\n",
       "        text-align: right;\n",
       "    }\n",
       "</style>\n",
       "<table border=\"1\" class=\"dataframe\">\n",
       "  <thead>\n",
       "    <tr style=\"text-align: right;\">\n",
       "      <th></th>\n",
       "      <th>Transaction Date</th>\n",
       "      <th>Posted Date</th>\n",
       "      <th>Card No.</th>\n",
       "      <th>Description</th>\n",
       "      <th>Category</th>\n",
       "      <th>Debit</th>\n",
       "      <th>Credit</th>\n",
       "    </tr>\n",
       "  </thead>\n",
       "  <tbody>\n",
       "    <tr>\n",
       "      <th>0</th>\n",
       "      <td>2025-06-12</td>\n",
       "      <td>2025-06-14</td>\n",
       "      <td>5432</td>\n",
       "      <td>TST*SUTADONYA RESTAURA</td>\n",
       "      <td>Dining</td>\n",
       "      <td>30.20</td>\n",
       "      <td>NaN</td>\n",
       "    </tr>\n",
       "    <tr>\n",
       "      <th>1</th>\n",
       "      <td>2025-06-11</td>\n",
       "      <td>2025-06-13</td>\n",
       "      <td>5432</td>\n",
       "      <td>SHOPPERS DRUG MART #27</td>\n",
       "      <td>Health Care</td>\n",
       "      <td>3.53</td>\n",
       "      <td>NaN</td>\n",
       "    </tr>\n",
       "    <tr>\n",
       "      <th>2</th>\n",
       "      <td>2025-06-12</td>\n",
       "      <td>2025-06-13</td>\n",
       "      <td>5432</td>\n",
       "      <td>ROOT98</td>\n",
       "      <td>Dining</td>\n",
       "      <td>15.60</td>\n",
       "      <td>NaN</td>\n",
       "    </tr>\n",
       "    <tr>\n",
       "      <th>3</th>\n",
       "      <td>2025-06-11</td>\n",
       "      <td>2025-06-12</td>\n",
       "      <td>5432</td>\n",
       "      <td>MONACO CAFE</td>\n",
       "      <td>Dining</td>\n",
       "      <td>4.88</td>\n",
       "      <td>NaN</td>\n",
       "    </tr>\n",
       "    <tr>\n",
       "      <th>4</th>\n",
       "      <td>2025-06-11</td>\n",
       "      <td>2025-06-12</td>\n",
       "      <td>5432</td>\n",
       "      <td>SURAJ FASHIONS &amp; GIFTS</td>\n",
       "      <td>Merchandise</td>\n",
       "      <td>40.97</td>\n",
       "      <td>NaN</td>\n",
       "    </tr>\n",
       "  </tbody>\n",
       "</table>\n",
       "</div>"
      ],
      "text/plain": [
       "  Transaction Date Posted Date  Card No.  ...     Category  Debit  Credit\n",
       "0       2025-06-12  2025-06-14      5432  ...       Dining  30.20     NaN\n",
       "1       2025-06-11  2025-06-13      5432  ...  Health Care   3.53     NaN\n",
       "2       2025-06-12  2025-06-13      5432  ...       Dining  15.60     NaN\n",
       "3       2025-06-11  2025-06-12      5432  ...       Dining   4.88     NaN\n",
       "4       2025-06-11  2025-06-12      5432  ...  Merchandise  40.97     NaN\n",
       "\n",
       "[5 rows x 7 columns]"
      ]
     },
     "execution_count": 1,
     "metadata": {},
     "output_type": "execute_result"
    }
   ],
   "source": [
    "import pandas as pd \n",
    "\n",
    "df = pd.read_csv('2025-06-28_transaction_download.csv', encoding='utf-8')\n",
    "df.head()"
   ]
  },
  {
   "cell_type": "code",
   "execution_count": 2,
   "metadata": {},
   "outputs": [
    {
     "data": {
      "text/plain": [
       "244.9"
      ]
     },
     "execution_count": 2,
     "metadata": {},
     "output_type": "execute_result"
    }
   ],
   "source": [
    "df['Debit'].sum()"
   ]
  }
 ],
 "metadata": {
  "kernelspec": {
   "display_name": "gift",
   "language": "python",
   "name": "python3"
  },
  "language_info": {
   "codemirror_mode": {
    "name": "ipython",
    "version": 3
   },
   "file_extension": ".py",
   "mimetype": "text/x-python",
   "name": "python",
   "nbconvert_exporter": "python",
   "pygments_lexer": "ipython3",
   "version": "3.11.11"
  }
 },
 "nbformat": 4,
 "nbformat_minor": 2
}
