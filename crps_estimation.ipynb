{
 "cells": [
  {
   "cell_type": "markdown",
   "metadata": {},
   "source": [
    "# Estimating CPRS"
   ]
  },
  {
   "cell_type": "markdown",
   "metadata": {},
   "source": [
    "This notebook estimates [Chronos Bolt](https://github.com/amazon-science/chronos-forecasting)'s zero-shot CRPS on each pretraining dataset. Read [this](https://docs.google.com/document/d/1LsKQ9I4i4xLwhiywDrFUkeVAsybitqUAkZ9S9VKRKC4/edit?tab=t.0#heading=h.gz7sst7uli2g) for a more detailed explanation."
   ]
  },
  {
   "cell_type": "markdown",
   "metadata": {},
   "source": [
    "<hr>"
   ]
  },
  {
   "cell_type": "markdown",
   "metadata": {},
   "source": [
    "## Data"
   ]
  },
  {
   "cell_type": "markdown",
   "metadata": {},
   "source": [
    "### Loading"
   ]
  },
  {
   "cell_type": "markdown",
   "metadata": {},
   "source": [
    "Load each train-test dataset's time series features and their respective zero-shot CRPS from Chronos-Bolt."
   ]
  },
  {
   "cell_type": "code",
   "execution_count": 24,
   "metadata": {},
   "outputs": [
    {
     "data": {
      "text/html": [
       "<div>\n",
       "<style scoped>\n",
       "    .dataframe tbody tr th:only-of-type {\n",
       "        vertical-align: middle;\n",
       "    }\n",
       "\n",
       "    .dataframe tbody tr th {\n",
       "        vertical-align: top;\n",
       "    }\n",
       "\n",
       "    .dataframe thead th {\n",
       "        text-align: right;\n",
       "    }\n",
       "</style>\n",
       "<table border=\"1\" class=\"dataframe\">\n",
       "  <thead>\n",
       "    <tr style=\"text-align: right;\">\n",
       "      <th></th>\n",
       "      <th>name</th>\n",
       "      <th>term</th>\n",
       "      <th>freq</th>\n",
       "      <th>prediction_length</th>\n",
       "      <th>domain</th>\n",
       "      <th>trend</th>\n",
       "      <th>seasonal_strength</th>\n",
       "      <th>entropy</th>\n",
       "      <th>hurst</th>\n",
       "      <th>stability</th>\n",
       "      <th>lumpiness</th>\n",
       "    </tr>\n",
       "  </thead>\n",
       "  <tbody>\n",
       "    <tr>\n",
       "      <th>0</th>\n",
       "      <td>loop_seattle</td>\n",
       "      <td>short</td>\n",
       "      <td>5T</td>\n",
       "      <td>48</td>\n",
       "      <td>Transport</td>\n",
       "      <td>0.594711</td>\n",
       "      <td>0.280343</td>\n",
       "      <td>0.589723</td>\n",
       "      <td>0.936951</td>\n",
       "      <td>0.458372</td>\n",
       "      <td>0.613632</td>\n",
       "    </tr>\n",
       "    <tr>\n",
       "      <th>1</th>\n",
       "      <td>loop_seattle</td>\n",
       "      <td>short</td>\n",
       "      <td>D</td>\n",
       "      <td>30</td>\n",
       "      <td>Transport</td>\n",
       "      <td>0.500107</td>\n",
       "      <td>0.769271</td>\n",
       "      <td>0.576937</td>\n",
       "      <td>0.611051</td>\n",
       "      <td>0.170957</td>\n",
       "      <td>0.339067</td>\n",
       "    </tr>\n",
       "    <tr>\n",
       "      <th>2</th>\n",
       "      <td>loop_seattle</td>\n",
       "      <td>short</td>\n",
       "      <td>H</td>\n",
       "      <td>48</td>\n",
       "      <td>Transport</td>\n",
       "      <td>0.446253</td>\n",
       "      <td>0.630205</td>\n",
       "      <td>0.656869</td>\n",
       "      <td>0.689547</td>\n",
       "      <td>0.211964</td>\n",
       "      <td>0.454267</td>\n",
       "    </tr>\n",
       "    <tr>\n",
       "      <th>3</th>\n",
       "      <td>m_dense</td>\n",
       "      <td>short</td>\n",
       "      <td>D</td>\n",
       "      <td>30</td>\n",
       "      <td>Transport</td>\n",
       "      <td>0.729707</td>\n",
       "      <td>0.741856</td>\n",
       "      <td>0.681616</td>\n",
       "      <td>0.744518</td>\n",
       "      <td>0.353943</td>\n",
       "      <td>0.367117</td>\n",
       "    </tr>\n",
       "    <tr>\n",
       "      <th>4</th>\n",
       "      <td>m_dense</td>\n",
       "      <td>short</td>\n",
       "      <td>H</td>\n",
       "      <td>48</td>\n",
       "      <td>Transport</td>\n",
       "      <td>0.397013</td>\n",
       "      <td>0.802983</td>\n",
       "      <td>0.477337</td>\n",
       "      <td>0.588340</td>\n",
       "      <td>0.113609</td>\n",
       "      <td>0.155365</td>\n",
       "    </tr>\n",
       "  </tbody>\n",
       "</table>\n",
       "</div>"
      ],
      "text/plain": [
       "           name   term freq  prediction_length     domain     trend   \n",
       "0  loop_seattle  short   5T                 48  Transport  0.594711  \\\n",
       "1  loop_seattle  short    D                 30  Transport  0.500107   \n",
       "2  loop_seattle  short    H                 48  Transport  0.446253   \n",
       "3       m_dense  short    D                 30  Transport  0.729707   \n",
       "4       m_dense  short    H                 48  Transport  0.397013   \n",
       "\n",
       "   seasonal_strength   entropy     hurst  stability  lumpiness  \n",
       "0           0.280343  0.589723  0.936951   0.458372   0.613632  \n",
       "1           0.769271  0.576937  0.611051   0.170957   0.339067  \n",
       "2           0.630205  0.656869  0.689547   0.211964   0.454267  \n",
       "3           0.741856  0.681616  0.744518   0.353943   0.367117  \n",
       "4           0.802983  0.477337  0.588340   0.113609   0.155365  "
      ]
     },
     "execution_count": 24,
     "metadata": {},
     "output_type": "execute_result"
    }
   ],
   "source": [
    "import pandas as pd\n",
    "from pathlib import Path\n",
    "\n",
    "split_name = \"train_test\"\n",
    "input_path = Path(\"resources\") / split_name / \"features.csv\"\n",
    "\n",
    "df = pd.read_csv(input_path)\n",
    "df.head()"
   ]
  },
  {
   "cell_type": "markdown",
   "metadata": {},
   "source": [
    "### Preprocessing"
   ]
  },
  {
   "cell_type": "markdown",
   "metadata": {},
   "source": [
    "#### `NaN`s "
   ]
  },
  {
   "cell_type": "markdown",
   "metadata": {},
   "source": [
    "Check if there are any rows with one or more `NaN`s in the time series feature columns."
   ]
  },
  {
   "cell_type": "code",
   "execution_count": 25,
   "metadata": {},
   "outputs": [
    {
     "name": "stdout",
     "output_type": "stream",
     "text": [
      "Number of rows with NaNs in time series features: 7\n",
      "Datasets with missing features:\n",
      "  hierarchical_sales/D (short)\n",
      "  m4_yearly/A (short)\n",
      "  solar/H (short)\n",
      "  temperature_rain_with_missing/D (short)\n",
      "  bizitobs_l2c/H (medium)\n",
      "  solar/H (medium)\n",
      "  solar/H (long)\n"
     ]
    },
    {
     "data": {
      "text/html": [
       "<div>\n",
       "<style scoped>\n",
       "    .dataframe tbody tr th:only-of-type {\n",
       "        vertical-align: middle;\n",
       "    }\n",
       "\n",
       "    .dataframe tbody tr th {\n",
       "        vertical-align: top;\n",
       "    }\n",
       "\n",
       "    .dataframe thead th {\n",
       "        text-align: right;\n",
       "    }\n",
       "</style>\n",
       "<table border=\"1\" class=\"dataframe\">\n",
       "  <thead>\n",
       "    <tr style=\"text-align: right;\">\n",
       "      <th></th>\n",
       "      <th>name</th>\n",
       "      <th>term</th>\n",
       "      <th>freq</th>\n",
       "      <th>prediction_length</th>\n",
       "      <th>domain</th>\n",
       "      <th>trend</th>\n",
       "      <th>seasonal_strength</th>\n",
       "      <th>entropy</th>\n",
       "      <th>hurst</th>\n",
       "      <th>stability</th>\n",
       "      <th>lumpiness</th>\n",
       "    </tr>\n",
       "  </thead>\n",
       "  <tbody>\n",
       "    <tr>\n",
       "      <th>0</th>\n",
       "      <td>hierarchical_sales</td>\n",
       "      <td>short</td>\n",
       "      <td>D</td>\n",
       "      <td>30</td>\n",
       "      <td>Sales</td>\n",
       "      <td>1.000000</td>\n",
       "      <td>1.000000</td>\n",
       "      <td>0.000000</td>\n",
       "      <td>NaN</td>\n",
       "      <td>NaN</td>\n",
       "      <td>NaN</td>\n",
       "    </tr>\n",
       "    <tr>\n",
       "      <th>1</th>\n",
       "      <td>m4_yearly</td>\n",
       "      <td>short</td>\n",
       "      <td>A</td>\n",
       "      <td>6</td>\n",
       "      <td>Econ/Fin</td>\n",
       "      <td>0.942347</td>\n",
       "      <td>NaN</td>\n",
       "      <td>0.499465</td>\n",
       "      <td>0.957853</td>\n",
       "      <td>0.811223</td>\n",
       "      <td>0.101500</td>\n",
       "    </tr>\n",
       "    <tr>\n",
       "      <th>2</th>\n",
       "      <td>solar</td>\n",
       "      <td>short</td>\n",
       "      <td>H</td>\n",
       "      <td>48</td>\n",
       "      <td>Energy</td>\n",
       "      <td>0.392161</td>\n",
       "      <td>0.887099</td>\n",
       "      <td>0.411896</td>\n",
       "      <td>NaN</td>\n",
       "      <td>0.060786</td>\n",
       "      <td>0.280778</td>\n",
       "    </tr>\n",
       "    <tr>\n",
       "      <th>3</th>\n",
       "      <td>temperature_rain_with_missing</td>\n",
       "      <td>short</td>\n",
       "      <td>D</td>\n",
       "      <td>30</td>\n",
       "      <td>Nature</td>\n",
       "      <td>NaN</td>\n",
       "      <td>NaN</td>\n",
       "      <td>NaN</td>\n",
       "      <td>NaN</td>\n",
       "      <td>NaN</td>\n",
       "      <td>NaN</td>\n",
       "    </tr>\n",
       "    <tr>\n",
       "      <th>4</th>\n",
       "      <td>bizitobs_l2c</td>\n",
       "      <td>medium</td>\n",
       "      <td>H</td>\n",
       "      <td>480</td>\n",
       "      <td>Web/CloudOps</td>\n",
       "      <td>0.860124</td>\n",
       "      <td>0.203657</td>\n",
       "      <td>0.413234</td>\n",
       "      <td>NaN</td>\n",
       "      <td>0.736321</td>\n",
       "      <td>0.202554</td>\n",
       "    </tr>\n",
       "    <tr>\n",
       "      <th>5</th>\n",
       "      <td>solar</td>\n",
       "      <td>medium</td>\n",
       "      <td>H</td>\n",
       "      <td>480</td>\n",
       "      <td>Energy</td>\n",
       "      <td>0.396826</td>\n",
       "      <td>0.880060</td>\n",
       "      <td>0.410616</td>\n",
       "      <td>NaN</td>\n",
       "      <td>0.064802</td>\n",
       "      <td>0.295527</td>\n",
       "    </tr>\n",
       "    <tr>\n",
       "      <th>6</th>\n",
       "      <td>solar</td>\n",
       "      <td>long</td>\n",
       "      <td>H</td>\n",
       "      <td>720</td>\n",
       "      <td>Energy</td>\n",
       "      <td>0.391212</td>\n",
       "      <td>0.850250</td>\n",
       "      <td>0.422815</td>\n",
       "      <td>NaN</td>\n",
       "      <td>0.077194</td>\n",
       "      <td>0.347750</td>\n",
       "    </tr>\n",
       "  </tbody>\n",
       "</table>\n",
       "</div>"
      ],
      "text/plain": [
       "                            name    term freq  prediction_length   \n",
       "0             hierarchical_sales   short    D                 30  \\\n",
       "1                      m4_yearly   short    A                  6   \n",
       "2                          solar   short    H                 48   \n",
       "3  temperature_rain_with_missing   short    D                 30   \n",
       "4                   bizitobs_l2c  medium    H                480   \n",
       "5                          solar  medium    H                480   \n",
       "6                          solar    long    H                720   \n",
       "\n",
       "         domain     trend  seasonal_strength   entropy     hurst  stability   \n",
       "0         Sales  1.000000           1.000000  0.000000       NaN        NaN  \\\n",
       "1      Econ/Fin  0.942347                NaN  0.499465  0.957853   0.811223   \n",
       "2        Energy  0.392161           0.887099  0.411896       NaN   0.060786   \n",
       "3        Nature       NaN                NaN       NaN       NaN        NaN   \n",
       "4  Web/CloudOps  0.860124           0.203657  0.413234       NaN   0.736321   \n",
       "5        Energy  0.396826           0.880060  0.410616       NaN   0.064802   \n",
       "6        Energy  0.391212           0.850250  0.422815       NaN   0.077194   \n",
       "\n",
       "   lumpiness  \n",
       "0        NaN  \n",
       "1   0.101500  \n",
       "2   0.280778  \n",
       "3        NaN  \n",
       "4   0.202554  \n",
       "5   0.295527  \n",
       "6   0.347750  "
      ]
     },
     "metadata": {},
     "output_type": "display_data"
    }
   ],
   "source": [
    "from IPython.display import display\n",
    "\n",
    "df_nan = df[df.isnull().any(axis=1)].reset_index(drop=True)\n",
    "\n",
    "print(f\"Number of rows with NaNs in time series features: {len(df_nan)}\")\n",
    "\n",
    "print(\"Datasets with missing features:\")\n",
    "for index, row in df_nan.iterrows():\n",
    "    print(f\"  {row['name']}/{row['freq']} ({row['term']})\")\n",
    "\n",
    "display(df_nan)"
   ]
  },
  {
   "cell_type": "markdown",
   "metadata": {},
   "source": [
    "Remove rows with one or more `NaN`s in the time series feature columns."
   ]
  },
  {
   "cell_type": "code",
   "execution_count": 26,
   "metadata": {},
   "outputs": [
    {
     "name": "stdout",
     "output_type": "stream",
     "text": [
      "Number of rows dropped: 7\n"
     ]
    }
   ],
   "source": [
    "initial_rows = len(df)\n",
    "\n",
    "features = [\n",
    "    \"trend\",\n",
    "    \"seasonal_strength\",\n",
    "    \"entropy\",\n",
    "    \"hurst\",\n",
    "    \"stability\",\n",
    "    \"lumpiness\",\n",
    "]\n",
    "\n",
    "df = df.dropna(subset=features)\n",
    "num_dropped = initial_rows - len(df)\n",
    "print(f\"Number of rows dropped: {num_dropped}\")"
   ]
  },
  {
   "cell_type": "markdown",
   "metadata": {},
   "source": [
    "#### Domains"
   ]
  },
  {
   "cell_type": "markdown",
   "metadata": {},
   "source": [
    "Use an [ordinal encoder](https://scikit-learn.org/stable/modules/generated/sklearn.preprocessing.OrdinalEncoder.html#sklearn.preprocessing.OrdinalEncoder) to encode each domain as an integer."
   ]
  },
  {
   "cell_type": "code",
   "execution_count": 27,
   "metadata": {},
   "outputs": [
    {
     "data": {
      "text/html": [
       "<div>\n",
       "<style scoped>\n",
       "    .dataframe tbody tr th:only-of-type {\n",
       "        vertical-align: middle;\n",
       "    }\n",
       "\n",
       "    .dataframe tbody tr th {\n",
       "        vertical-align: top;\n",
       "    }\n",
       "\n",
       "    .dataframe thead th {\n",
       "        text-align: right;\n",
       "    }\n",
       "</style>\n",
       "<table border=\"1\" class=\"dataframe\">\n",
       "  <thead>\n",
       "    <tr style=\"text-align: right;\">\n",
       "      <th></th>\n",
       "      <th>name</th>\n",
       "      <th>term</th>\n",
       "      <th>freq</th>\n",
       "      <th>prediction_length</th>\n",
       "      <th>domain</th>\n",
       "      <th>trend</th>\n",
       "      <th>seasonal_strength</th>\n",
       "      <th>entropy</th>\n",
       "      <th>hurst</th>\n",
       "      <th>stability</th>\n",
       "      <th>lumpiness</th>\n",
       "    </tr>\n",
       "  </thead>\n",
       "  <tbody>\n",
       "    <tr>\n",
       "      <th>0</th>\n",
       "      <td>loop_seattle</td>\n",
       "      <td>short</td>\n",
       "      <td>5T</td>\n",
       "      <td>48</td>\n",
       "      <td>5.0</td>\n",
       "      <td>0.594711</td>\n",
       "      <td>0.280343</td>\n",
       "      <td>0.589723</td>\n",
       "      <td>0.936951</td>\n",
       "      <td>0.458372</td>\n",
       "      <td>0.613632</td>\n",
       "    </tr>\n",
       "    <tr>\n",
       "      <th>1</th>\n",
       "      <td>loop_seattle</td>\n",
       "      <td>short</td>\n",
       "      <td>D</td>\n",
       "      <td>30</td>\n",
       "      <td>5.0</td>\n",
       "      <td>0.500107</td>\n",
       "      <td>0.769271</td>\n",
       "      <td>0.576937</td>\n",
       "      <td>0.611051</td>\n",
       "      <td>0.170957</td>\n",
       "      <td>0.339067</td>\n",
       "    </tr>\n",
       "    <tr>\n",
       "      <th>2</th>\n",
       "      <td>loop_seattle</td>\n",
       "      <td>short</td>\n",
       "      <td>H</td>\n",
       "      <td>48</td>\n",
       "      <td>5.0</td>\n",
       "      <td>0.446253</td>\n",
       "      <td>0.630205</td>\n",
       "      <td>0.656869</td>\n",
       "      <td>0.689547</td>\n",
       "      <td>0.211964</td>\n",
       "      <td>0.454267</td>\n",
       "    </tr>\n",
       "    <tr>\n",
       "      <th>3</th>\n",
       "      <td>m_dense</td>\n",
       "      <td>short</td>\n",
       "      <td>D</td>\n",
       "      <td>30</td>\n",
       "      <td>5.0</td>\n",
       "      <td>0.729707</td>\n",
       "      <td>0.741856</td>\n",
       "      <td>0.681616</td>\n",
       "      <td>0.744518</td>\n",
       "      <td>0.353943</td>\n",
       "      <td>0.367117</td>\n",
       "    </tr>\n",
       "    <tr>\n",
       "      <th>4</th>\n",
       "      <td>m_dense</td>\n",
       "      <td>short</td>\n",
       "      <td>H</td>\n",
       "      <td>48</td>\n",
       "      <td>5.0</td>\n",
       "      <td>0.397013</td>\n",
       "      <td>0.802983</td>\n",
       "      <td>0.477337</td>\n",
       "      <td>0.588340</td>\n",
       "      <td>0.113609</td>\n",
       "      <td>0.155365</td>\n",
       "    </tr>\n",
       "  </tbody>\n",
       "</table>\n",
       "</div>"
      ],
      "text/plain": [
       "           name   term freq  prediction_length  domain     trend   \n",
       "0  loop_seattle  short   5T                 48     5.0  0.594711  \\\n",
       "1  loop_seattle  short    D                 30     5.0  0.500107   \n",
       "2  loop_seattle  short    H                 48     5.0  0.446253   \n",
       "3       m_dense  short    D                 30     5.0  0.729707   \n",
       "4       m_dense  short    H                 48     5.0  0.397013   \n",
       "\n",
       "   seasonal_strength   entropy     hurst  stability  lumpiness  \n",
       "0           0.280343  0.589723  0.936951   0.458372   0.613632  \n",
       "1           0.769271  0.576937  0.611051   0.170957   0.339067  \n",
       "2           0.630205  0.656869  0.689547   0.211964   0.454267  \n",
       "3           0.741856  0.681616  0.744518   0.353943   0.367117  \n",
       "4           0.802983  0.477337  0.588340   0.113609   0.155365  "
      ]
     },
     "execution_count": 27,
     "metadata": {},
     "output_type": "execute_result"
    }
   ],
   "source": [
    "from sklearn.preprocessing import OrdinalEncoder\n",
    "\n",
    "enc = OrdinalEncoder()\n",
    "\n",
    "df[\"domain\"] = enc.fit_transform(df[[\"domain\"]])\n",
    "df.head()"
   ]
  },
  {
   "cell_type": "markdown",
   "metadata": {},
   "source": [
    "#### Frequencies"
   ]
  },
  {
   "cell_type": "markdown",
   "metadata": {},
   "source": [
    "Encode each frequency as its corresponding number of preiods per year."
   ]
  },
  {
   "cell_type": "code",
   "execution_count": 28,
   "metadata": {},
   "outputs": [
    {
     "data": {
      "text/html": [
       "<div>\n",
       "<style scoped>\n",
       "    .dataframe tbody tr th:only-of-type {\n",
       "        vertical-align: middle;\n",
       "    }\n",
       "\n",
       "    .dataframe tbody tr th {\n",
       "        vertical-align: top;\n",
       "    }\n",
       "\n",
       "    .dataframe thead th {\n",
       "        text-align: right;\n",
       "    }\n",
       "</style>\n",
       "<table border=\"1\" class=\"dataframe\">\n",
       "  <thead>\n",
       "    <tr style=\"text-align: right;\">\n",
       "      <th></th>\n",
       "      <th>name</th>\n",
       "      <th>term</th>\n",
       "      <th>freq</th>\n",
       "      <th>prediction_length</th>\n",
       "      <th>domain</th>\n",
       "      <th>trend</th>\n",
       "      <th>seasonal_strength</th>\n",
       "      <th>entropy</th>\n",
       "      <th>hurst</th>\n",
       "      <th>stability</th>\n",
       "      <th>lumpiness</th>\n",
       "    </tr>\n",
       "  </thead>\n",
       "  <tbody>\n",
       "    <tr>\n",
       "      <th>0</th>\n",
       "      <td>loop_seattle</td>\n",
       "      <td>short</td>\n",
       "      <td>105120.0</td>\n",
       "      <td>48</td>\n",
       "      <td>5.0</td>\n",
       "      <td>0.594711</td>\n",
       "      <td>0.280343</td>\n",
       "      <td>0.589723</td>\n",
       "      <td>0.936951</td>\n",
       "      <td>0.458372</td>\n",
       "      <td>0.613632</td>\n",
       "    </tr>\n",
       "    <tr>\n",
       "      <th>1</th>\n",
       "      <td>loop_seattle</td>\n",
       "      <td>short</td>\n",
       "      <td>365.0</td>\n",
       "      <td>30</td>\n",
       "      <td>5.0</td>\n",
       "      <td>0.500107</td>\n",
       "      <td>0.769271</td>\n",
       "      <td>0.576937</td>\n",
       "      <td>0.611051</td>\n",
       "      <td>0.170957</td>\n",
       "      <td>0.339067</td>\n",
       "    </tr>\n",
       "    <tr>\n",
       "      <th>2</th>\n",
       "      <td>loop_seattle</td>\n",
       "      <td>short</td>\n",
       "      <td>8760.0</td>\n",
       "      <td>48</td>\n",
       "      <td>5.0</td>\n",
       "      <td>0.446253</td>\n",
       "      <td>0.630205</td>\n",
       "      <td>0.656869</td>\n",
       "      <td>0.689547</td>\n",
       "      <td>0.211964</td>\n",
       "      <td>0.454267</td>\n",
       "    </tr>\n",
       "    <tr>\n",
       "      <th>3</th>\n",
       "      <td>m_dense</td>\n",
       "      <td>short</td>\n",
       "      <td>365.0</td>\n",
       "      <td>30</td>\n",
       "      <td>5.0</td>\n",
       "      <td>0.729707</td>\n",
       "      <td>0.741856</td>\n",
       "      <td>0.681616</td>\n",
       "      <td>0.744518</td>\n",
       "      <td>0.353943</td>\n",
       "      <td>0.367117</td>\n",
       "    </tr>\n",
       "    <tr>\n",
       "      <th>4</th>\n",
       "      <td>m_dense</td>\n",
       "      <td>short</td>\n",
       "      <td>8760.0</td>\n",
       "      <td>48</td>\n",
       "      <td>5.0</td>\n",
       "      <td>0.397013</td>\n",
       "      <td>0.802983</td>\n",
       "      <td>0.477337</td>\n",
       "      <td>0.588340</td>\n",
       "      <td>0.113609</td>\n",
       "      <td>0.155365</td>\n",
       "    </tr>\n",
       "  </tbody>\n",
       "</table>\n",
       "</div>"
      ],
      "text/plain": [
       "           name   term      freq  prediction_length  domain     trend   \n",
       "0  loop_seattle  short  105120.0                 48     5.0  0.594711  \\\n",
       "1  loop_seattle  short     365.0                 30     5.0  0.500107   \n",
       "2  loop_seattle  short    8760.0                 48     5.0  0.446253   \n",
       "3       m_dense  short     365.0                 30     5.0  0.729707   \n",
       "4       m_dense  short    8760.0                 48     5.0  0.397013   \n",
       "\n",
       "   seasonal_strength   entropy     hurst  stability  lumpiness  \n",
       "0           0.280343  0.589723  0.936951   0.458372   0.613632  \n",
       "1           0.769271  0.576937  0.611051   0.170957   0.339067  \n",
       "2           0.630205  0.656869  0.689547   0.211964   0.454267  \n",
       "3           0.741856  0.681616  0.744518   0.353943   0.367117  \n",
       "4           0.802983  0.477337  0.588340   0.113609   0.155365  "
      ]
     },
     "execution_count": 28,
     "metadata": {},
     "output_type": "execute_result"
    }
   ],
   "source": [
    "import numpy as np\n",
    "import re\n",
    "\n",
    "SECONDS_PER_YEAR = 365 * 24 * 60 * 60\n",
    "\n",
    "\n",
    "def freq_to_seconds(freq_str: str) -> float:\n",
    "    \"\"\"\n",
    "    Convert a frequency string (e.g., 'T', '15T', etc.) into its equivalent\n",
    "    duration in seconds.\n",
    "\n",
    "    The function extracts a optional numeric multiplier and a time unit from\n",
    "    the input string and calculates the total duration in seconds based on a\n",
    "    predefined mapping of time units.\n",
    "\n",
    "    Supported units:\n",
    "    - 'S' : second\n",
    "    - 'T' : minute (60 seconds)\n",
    "    - 'H' : hour (3600 seconds)\n",
    "    - 'D' : day (86400 seconds)\n",
    "    - 'W' : week (604800 seconds)\n",
    "    - 'M' : month (approximated as 30 days)\n",
    "    - 'Q' : quarter (approximated as 91 days)\n",
    "    - 'Y' : year (approximated as 365 days)\n",
    "\n",
    "    Args:\n",
    "        freq_str (str): A frequency string composed of:\n",
    "        - An optional 1-2 digit integer\n",
    "        - An uppercase time unit.\n",
    "\n",
    "    Returns:\n",
    "        float: The equivalent number of seconds, or np.nan if the format is\n",
    "            invalid.\n",
    "    \"\"\"\n",
    "    match = re.match(r\"^(\\d{1,2})?([A-Z]+)\", freq_str)\n",
    "    if not match:\n",
    "        return np.nan\n",
    "\n",
    "    num_str, freq = match.groups()\n",
    "    num = int(num_str) if num_str is not None else 1\n",
    "\n",
    "    freq_map = {\n",
    "        \"S\": 1,\n",
    "        \"T\": 60,  # minute\n",
    "        \"H\": 3600,\n",
    "        \"D\": 86400,\n",
    "        \"W\": 7 * 86400,\n",
    "        \"M\": 30 * 86400,\n",
    "        \"Q\": 91 * 86400,\n",
    "        \"Y\": 365 * 86400,\n",
    "    }\n",
    "\n",
    "    if freq not in freq_map:\n",
    "        return np.nan\n",
    "\n",
    "    return num * freq_map[freq]\n",
    "\n",
    "\n",
    "def freq_to_periods(freq_str: str) -> float:\n",
    "    \"\"\"\n",
    "    Convert a frequency string into the approximate number of periods per year.\n",
    "\n",
    "    Example:\n",
    "    - 'D' -> 365 (daily)\n",
    "    - 'H' -> 8760 (hourly)\n",
    "    - 'Q' -> ~4.01 (quarterly)\n",
    "    - '5T' -> 105120 (every 5 minutes)\n",
    "\n",
    "    Args:\n",
    "        freq_str (str): A frequency string composed of an optional numeric\n",
    "        prefix (up to 2 digits) followed by a time unit (e.g., '5T', 'Q',\n",
    "        'D').\n",
    "\n",
    "    Returns:\n",
    "        float: Approximate number of periods per year for the given frequency.\n",
    "            Returns np.nan if the input is invalid or cannot be parsed.\n",
    "    \"\"\"\n",
    "    seconds = freq_to_seconds(freq_str)\n",
    "    return np.nan if pd.isna(seconds) else SECONDS_PER_YEAR / seconds\n",
    "\n",
    "\n",
    "df[\"freq\"] = df[\"freq\"].apply(freq_to_periods)\n",
    "df.head()"
   ]
  },
  {
   "cell_type": "markdown",
   "metadata": {},
   "source": [
    "<hr>"
   ]
  },
  {
   "cell_type": "markdown",
   "metadata": {},
   "source": [
    "## XGBoost Tree"
   ]
  },
  {
   "cell_type": "markdown",
   "metadata": {},
   "source": [
    "### Training"
   ]
  },
  {
   "cell_type": "markdown",
   "metadata": {},
   "source": [
    "We're going to train an [XGBoost tree](https://xgboost.readthedocs.io/en/latest/python/python_api.html#xgboost.XGBRegressor) on each train-test dataset's time series features to predict Chronos-Bolt's CRPS on the dataset."
   ]
  },
  {
   "cell_type": "markdown",
   "metadata": {},
   "source": [
    "1. Split the DataFrame into a training split and a test split."
   ]
  },
  {
   "cell_type": "code",
   "execution_count": 29,
   "metadata": {},
   "outputs": [
    {
     "ename": "KeyError",
     "evalue": "'true_crps'",
     "output_type": "error",
     "traceback": [
      "\u001b[31m---------------------------------------------------------------------------\u001b[39m",
      "\u001b[31mKeyError\u001b[39m                                  Traceback (most recent call last)",
      "\u001b[36mFile \u001b[39m\u001b[32mc:\\Users\\Mike\\anaconda3\\envs\\gift\\Lib\\site-packages\\pandas\\core\\indexes\\base.py:3652\u001b[39m, in \u001b[36mIndex.get_loc\u001b[39m\u001b[34m(self, key)\u001b[39m\n\u001b[32m   3651\u001b[39m \u001b[38;5;28;01mtry\u001b[39;00m:\n\u001b[32m-> \u001b[39m\u001b[32m3652\u001b[39m     \u001b[38;5;28;01mreturn\u001b[39;00m \u001b[38;5;28;43mself\u001b[39;49m\u001b[43m.\u001b[49m\u001b[43m_engine\u001b[49m\u001b[43m.\u001b[49m\u001b[43mget_loc\u001b[49m\u001b[43m(\u001b[49m\u001b[43mcasted_key\u001b[49m\u001b[43m)\u001b[49m\n\u001b[32m   3653\u001b[39m \u001b[38;5;28;01mexcept\u001b[39;00m \u001b[38;5;167;01mKeyError\u001b[39;00m \u001b[38;5;28;01mas\u001b[39;00m err:\n",
      "\u001b[36mFile \u001b[39m\u001b[32mc:\\Users\\Mike\\anaconda3\\envs\\gift\\Lib\\site-packages\\pandas\\_libs\\index.pyx:147\u001b[39m, in \u001b[36mpandas._libs.index.IndexEngine.get_loc\u001b[39m\u001b[34m()\u001b[39m\n",
      "\u001b[36mFile \u001b[39m\u001b[32mc:\\Users\\Mike\\anaconda3\\envs\\gift\\Lib\\site-packages\\pandas\\_libs\\index.pyx:176\u001b[39m, in \u001b[36mpandas._libs.index.IndexEngine.get_loc\u001b[39m\u001b[34m()\u001b[39m\n",
      "\u001b[36mFile \u001b[39m\u001b[32mpandas\\_libs\\hashtable_class_helper.pxi:7080\u001b[39m, in \u001b[36mpandas._libs.hashtable.PyObjectHashTable.get_item\u001b[39m\u001b[34m()\u001b[39m\n",
      "\u001b[36mFile \u001b[39m\u001b[32mpandas\\_libs\\hashtable_class_helper.pxi:7088\u001b[39m, in \u001b[36mpandas._libs.hashtable.PyObjectHashTable.get_item\u001b[39m\u001b[34m()\u001b[39m\n",
      "\u001b[31mKeyError\u001b[39m: 'true_crps'",
      "\nThe above exception was the direct cause of the following exception:\n",
      "\u001b[31mKeyError\u001b[39m                                  Traceback (most recent call last)",
      "\u001b[36mCell\u001b[39m\u001b[36m \u001b[39m\u001b[32mIn[29]\u001b[39m\u001b[32m, line 4\u001b[39m\n\u001b[32m      1\u001b[39m \u001b[38;5;28;01mfrom\u001b[39;00m\u001b[38;5;250m \u001b[39m\u001b[34;01msklearn\u001b[39;00m\u001b[34;01m.\u001b[39;00m\u001b[34;01mmodel_selection\u001b[39;00m\u001b[38;5;250m \u001b[39m\u001b[38;5;28;01mimport\u001b[39;00m train_test_split\n\u001b[32m----> \u001b[39m\u001b[32m4\u001b[39m X, y = df[features], \u001b[43mdf\u001b[49m\u001b[43m[\u001b[49m\u001b[33;43m\"\u001b[39;49m\u001b[33;43mtrue_crps\u001b[39;49m\u001b[33;43m\"\u001b[39;49m\u001b[43m]\u001b[49m\n\u001b[32m      5\u001b[39m X_train, X_test, y_train, y_test = train_test_split(\n\u001b[32m      6\u001b[39m     X,\n\u001b[32m      7\u001b[39m     y,\n\u001b[32m      8\u001b[39m     test_size=\u001b[32m0.2\u001b[39m,\n\u001b[32m      9\u001b[39m     random_state=\u001b[32m42\u001b[39m,\n\u001b[32m     10\u001b[39m )\n\u001b[32m     12\u001b[39m \u001b[38;5;28mprint\u001b[39m(\u001b[33mf\u001b[39m\u001b[33m\"\u001b[39m\u001b[33mX columns: \u001b[39m\u001b[38;5;132;01m{\u001b[39;00mX_train.columns.tolist()\u001b[38;5;132;01m}\u001b[39;00m\u001b[33m\"\u001b[39m)\n",
      "\u001b[36mFile \u001b[39m\u001b[32mc:\\Users\\Mike\\anaconda3\\envs\\gift\\Lib\\site-packages\\pandas\\core\\frame.py:3760\u001b[39m, in \u001b[36mDataFrame.__getitem__\u001b[39m\u001b[34m(self, key)\u001b[39m\n\u001b[32m   3758\u001b[39m \u001b[38;5;28;01mif\u001b[39;00m \u001b[38;5;28mself\u001b[39m.columns.nlevels > \u001b[32m1\u001b[39m:\n\u001b[32m   3759\u001b[39m     \u001b[38;5;28;01mreturn\u001b[39;00m \u001b[38;5;28mself\u001b[39m._getitem_multilevel(key)\n\u001b[32m-> \u001b[39m\u001b[32m3760\u001b[39m indexer = \u001b[38;5;28;43mself\u001b[39;49m\u001b[43m.\u001b[49m\u001b[43mcolumns\u001b[49m\u001b[43m.\u001b[49m\u001b[43mget_loc\u001b[49m\u001b[43m(\u001b[49m\u001b[43mkey\u001b[49m\u001b[43m)\u001b[49m\n\u001b[32m   3761\u001b[39m \u001b[38;5;28;01mif\u001b[39;00m is_integer(indexer):\n\u001b[32m   3762\u001b[39m     indexer = [indexer]\n",
      "\u001b[36mFile \u001b[39m\u001b[32mc:\\Users\\Mike\\anaconda3\\envs\\gift\\Lib\\site-packages\\pandas\\core\\indexes\\base.py:3654\u001b[39m, in \u001b[36mIndex.get_loc\u001b[39m\u001b[34m(self, key)\u001b[39m\n\u001b[32m   3652\u001b[39m     \u001b[38;5;28;01mreturn\u001b[39;00m \u001b[38;5;28mself\u001b[39m._engine.get_loc(casted_key)\n\u001b[32m   3653\u001b[39m \u001b[38;5;28;01mexcept\u001b[39;00m \u001b[38;5;167;01mKeyError\u001b[39;00m \u001b[38;5;28;01mas\u001b[39;00m err:\n\u001b[32m-> \u001b[39m\u001b[32m3654\u001b[39m     \u001b[38;5;28;01mraise\u001b[39;00m \u001b[38;5;167;01mKeyError\u001b[39;00m(key) \u001b[38;5;28;01mfrom\u001b[39;00m\u001b[38;5;250m \u001b[39m\u001b[34;01merr\u001b[39;00m\n\u001b[32m   3655\u001b[39m \u001b[38;5;28;01mexcept\u001b[39;00m \u001b[38;5;167;01mTypeError\u001b[39;00m:\n\u001b[32m   3656\u001b[39m     \u001b[38;5;66;03m# If we have a listlike key, _check_indexing_error will raise\u001b[39;00m\n\u001b[32m   3657\u001b[39m     \u001b[38;5;66;03m#  InvalidIndexError. Otherwise we fall through and re-raise\u001b[39;00m\n\u001b[32m   3658\u001b[39m     \u001b[38;5;66;03m#  the TypeError.\u001b[39;00m\n\u001b[32m   3659\u001b[39m     \u001b[38;5;28mself\u001b[39m._check_indexing_error(key)\n",
      "\u001b[31mKeyError\u001b[39m: 'true_crps'"
     ]
    }
   ],
   "source": [
    "from sklearn.model_selection import train_test_split\n",
    "\n",
    "\n",
    "X, y = df[features], df[\"true_crps\"]\n",
    "X_train, X_test, y_train, y_test = train_test_split(\n",
    "    X,\n",
    "    y,\n",
    "    test_size=0.2,\n",
    "    random_state=42,\n",
    ")\n",
    "\n",
    "print(f\"X columns: {X_train.columns.tolist()}\")\n",
    "print(f\"y column: {y_train.name}\")"
   ]
  },
  {
   "cell_type": "markdown",
   "metadata": {},
   "source": [
    "2. Use [grid search](https://scikit-learn.org/stable/modules/generated/sklearn.model_selection.GridSearchCV.html#gridsearchcv) and [leave-one-out cross-validation](https://scikit-learn.org/stable/modules/generated/sklearn.model_selection.LeaveOneOut.html) to perform hyperparameter optimization."
   ]
  },
  {
   "cell_type": "code",
   "execution_count": null,
   "metadata": {},
   "outputs": [
    {
     "name": "stdout",
     "output_type": "stream",
     "text": [
      "Fitting 72 folds for each of 8 candidates, totalling 576 fits\n",
      "[Grid Search] Best parameters: {'learning_rate': 0.01, 'max_depth': 5, 'n_estimators': 100}\n",
      "[Grid Search] Best cross-validation MSE: 0.033\n"
     ]
    }
   ],
   "source": [
    "from xgboost import XGBRegressor\n",
    "from sklearn.model_selection import GridSearchCV, LeaveOneOut\n",
    "\n",
    "# TODO: Consider playing around with params to decrease CV MSE\n",
    "param_grid = {\n",
    "    \"max_depth\": [3, 5],\n",
    "    \"learning_rate\": [0.01, 0.1],\n",
    "    \"n_estimators\": [100, 200],\n",
    "}\n",
    "grid = GridSearchCV(\n",
    "    estimator=XGBRegressor(random_state=42),\n",
    "    param_grid=param_grid,\n",
    "    cv=LeaveOneOut(),\n",
    "    scoring=\"neg_mean_squared_error\",\n",
    "    verbose=1,\n",
    ").fit(X_train, y_train)\n",
    "\n",
    "print(f\"[Grid Search] Best parameters: {grid.best_params_}\")\n",
    "print(f\"[Grid Search] Best cross-validation MSE: {-grid.best_score_:.3f}\")"
   ]
  },
  {
   "cell_type": "markdown",
   "metadata": {},
   "source": [
    "3. Save the best XGBoost tree."
   ]
  },
  {
   "cell_type": "code",
   "execution_count": null,
   "metadata": {},
   "outputs": [
    {
     "name": "stdout",
     "output_type": "stream",
     "text": [
      "Saving best XGBoost tree to: xgboost\\train_test\\crps.json\n"
     ]
    }
   ],
   "source": [
    "estimator_path = Path(\"xgboost\") / split_name / \"crps.json\"\n",
    "estimator_path.parent.mkdir(parents=True, exist_ok=True)\n",
    "\n",
    "print(f\"Saving best XGBoost tree to: {estimator_path}\")\n",
    "estimator = grid.best_estimator_\n",
    "estimator.save_model(str(estimator_path))"
   ]
  },
  {
   "cell_type": "markdown",
   "metadata": {},
   "source": [
    "4. Compare the best XGBoost tree to training and evaluating a [dummy model](https://scikit-learn.org/stable/modules/generated/sklearn.dummy.DummyRegressor.html#sklearn.dummy.DummyRegressor)"
   ]
  },
  {
   "cell_type": "code",
   "execution_count": null,
   "metadata": {},
   "outputs": [
    {
     "name": "stdout",
     "output_type": "stream",
     "text": [
      "[Dummy] Test MSE: 0.047\n",
      "[XGBoost] Test MSE: 0.005\n"
     ]
    }
   ],
   "source": [
    "from sklearn.dummy import DummyRegressor\n",
    "from sklearn.metrics import mean_squared_error\n",
    "\n",
    "\n",
    "dummy = DummyRegressor().fit(X_train, y_train)\n",
    "base_mse = mean_squared_error(y_test, dummy.predict(X_test))\n",
    "print(f\"[Dummy] Test MSE: {base_mse:.3f}\")\n",
    "\n",
    "y_pred = estimator.predict(X_test)\n",
    "mse = mean_squared_error(y_test, y_pred)\n",
    "print(f\"[XGBoost] Test MSE: {mse:.3f}\")"
   ]
  },
  {
   "cell_type": "markdown",
   "metadata": {},
   "source": [
    "5. Plot each feature's [importance](https://xgboost.readthedocs.io/en/latest/python/python_api.html#xgboost.plot_importance) in predicting Chronos-Bolt's CRPS."
   ]
  },
  {
   "cell_type": "code",
   "execution_count": null,
   "metadata": {},
   "outputs": [
    {
     "data": {
      "image/png": "[encoded data removed]",
      "text/plain": [
       "<Figure size 640x480 with 1 Axes>"
      ]
     },
     "metadata": {},
     "output_type": "display_data"
    }
   ],
   "source": [
    "import matplotlib.pyplot as plt\n",
    "from xgboost import plot_importance\n",
    "\n",
    "ax = plot_importance(estimator)\n",
    "ax.set_title(\"Feature Importance (CRPS)\")\n",
    "ax.grid(False)\n",
    "plt.tight_layout()\n",
    "\n",
    "plot_dirpath = Path(\"plots\") / \"xgboost\" / split_name\n",
    "plot_path = plot_dirpath / \"crps_importance.png\"\n",
    "plot_path.parent.mkdir(parents=True, exist_ok=True)\n",
    "plt.savefig(plot_path, dpi=300)\n",
    "plt.show()"
   ]
  },
  {
   "cell_type": "markdown",
   "metadata": {},
   "source": [
    "<br>"
   ]
  }
 ],
 "metadata": {
  "kernelspec": {
   "display_name": "gift",
   "language": "python",
   "name": "python3"
  },
  "language_info": {
   "codemirror_mode": {
    "name": "ipython",
    "version": 3
   },
   "file_extension": ".py",
   "mimetype": "text/x-python",
   "name": "python",
   "nbconvert_exporter": "python",
   "pygments_lexer": "ipython3",
   "version": "3.11.11"
  }
 },
 "nbformat": 4,
 "nbformat_minor": 2
}
