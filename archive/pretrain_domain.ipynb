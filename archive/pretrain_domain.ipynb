{
 "cells": [
  {
   "cell_type": "code",
   "execution_count": 45,
   "metadata": {},
   "outputs": [
    {
     "data": {
      "text/html": [
       "<div>\n",
       "<style scoped>\n",
       "    .dataframe tbody tr th:only-of-type {\n",
       "        vertical-align: middle;\n",
       "    }\n",
       "\n",
       "    .dataframe tbody tr th {\n",
       "        vertical-align: top;\n",
       "    }\n",
       "\n",
       "    .dataframe thead th {\n",
       "        text-align: right;\n",
       "    }\n",
       "</style>\n",
       "<table border=\"1\" class=\"dataframe\">\n",
       "  <thead>\n",
       "    <tr style=\"text-align: right;\">\n",
       "      <th></th>\n",
       "      <th>name</th>\n",
       "      <th>source</th>\n",
       "      <th>domain</th>\n",
       "      <th>freq</th>\n",
       "      <th>num_entries</th>\n",
       "      <th>num_targets</th>\n",
       "      <th>num_covariates</th>\n",
       "      <th>num_observations</th>\n",
       "      <th>category</th>\n",
       "    </tr>\n",
       "  </thead>\n",
       "  <tbody>\n",
       "    <tr>\n",
       "      <th>0</th>\n",
       "      <td>bdg-2_panther</td>\n",
       "      <td>BuildingsBench(Emamietal.2023)</td>\n",
       "      <td>Energy</td>\n",
       "      <td>H</td>\n",
       "      <td>105</td>\n",
       "      <td>1</td>\n",
       "      <td>0</td>\n",
       "      <td>919800</td>\n",
       "      <td>small_clean</td>\n",
       "    </tr>\n",
       "    <tr>\n",
       "      <th>1</th>\n",
       "      <td>bdg-2_fox</td>\n",
       "      <td>BuildingsBench(Emamietal.2023)</td>\n",
       "      <td>Energy</td>\n",
       "      <td>H</td>\n",
       "      <td>135</td>\n",
       "      <td>1</td>\n",
       "      <td>0</td>\n",
       "      <td>2324568</td>\n",
       "      <td>small_clean</td>\n",
       "    </tr>\n",
       "    <tr>\n",
       "      <th>2</th>\n",
       "      <td>bdg-2_rat</td>\n",
       "      <td>BuildingsBench(Emamietal.2023)</td>\n",
       "      <td>Energy</td>\n",
       "      <td>H</td>\n",
       "      <td>280</td>\n",
       "      <td>1</td>\n",
       "      <td>0</td>\n",
       "      <td>4728288</td>\n",
       "      <td>small_clean</td>\n",
       "    </tr>\n",
       "    <tr>\n",
       "      <th>3</th>\n",
       "      <td>bdg-2_bear</td>\n",
       "      <td>BuildingsBench(Emamietal.2023)</td>\n",
       "      <td>Energy</td>\n",
       "      <td>H</td>\n",
       "      <td>91</td>\n",
       "      <td>1</td>\n",
       "      <td>0</td>\n",
       "      <td>1482312</td>\n",
       "      <td>small_clean</td>\n",
       "    </tr>\n",
       "    <tr>\n",
       "      <th>4</th>\n",
       "      <td>london_smart_meters_with_missing</td>\n",
       "      <td>BuildingsBench(Emamietal.2023)</td>\n",
       "      <td>Energy</td>\n",
       "      <td>H</td>\n",
       "      <td>713</td>\n",
       "      <td>1</td>\n",
       "      <td>0</td>\n",
       "      <td>9543348</td>\n",
       "      <td>noisy_sparse</td>\n",
       "    </tr>\n",
       "  </tbody>\n",
       "</table>\n",
       "</div>"
      ],
      "text/plain": [
       "                               name  ...      category\n",
       "0                     bdg-2_panther  ...   small_clean\n",
       "1                         bdg-2_fox  ...   small_clean\n",
       "2                         bdg-2_rat  ...   small_clean\n",
       "3                        bdg-2_bear  ...   small_clean\n",
       "4  london_smart_meters_with_missing  ...  noisy_sparse\n",
       "\n",
       "[5 rows x 9 columns]"
      ]
     },
     "execution_count": 45,
     "metadata": {},
     "output_type": "execute_result"
    }
   ],
   "source": [
    "import pandas as pd\n",
    "from pathlib import Path\n",
    "\n",
    "input_path = Path(\"resources\") / \"pretrain\" / \"partial_dataset_info.csv\"\n",
    "df_input = pd.read_csv(input_path)\n",
    "df_input.head()"
   ]
  },
  {
   "cell_type": "code",
   "execution_count": 46,
   "metadata": {},
   "outputs": [
    {
     "data": {
      "text/html": [
       "<div>\n",
       "<style scoped>\n",
       "    .dataframe tbody tr th:only-of-type {\n",
       "        vertical-align: middle;\n",
       "    }\n",
       "\n",
       "    .dataframe tbody tr th {\n",
       "        vertical-align: top;\n",
       "    }\n",
       "\n",
       "    .dataframe thead th {\n",
       "        text-align: right;\n",
       "    }\n",
       "</style>\n",
       "<table border=\"1\" class=\"dataframe\">\n",
       "  <thead>\n",
       "    <tr style=\"text-align: right;\">\n",
       "      <th></th>\n",
       "      <th>name</th>\n",
       "      <th>term</th>\n",
       "      <th>freq</th>\n",
       "      <th>prediction_length</th>\n",
       "      <th>target_dim</th>\n",
       "      <th>windows</th>\n",
       "      <th>_min_series_length</th>\n",
       "      <th>sum_series_length</th>\n",
       "      <th>domain</th>\n",
       "    </tr>\n",
       "  </thead>\n",
       "  <tbody>\n",
       "    <tr>\n",
       "      <th>0</th>\n",
       "      <td>bull</td>\n",
       "      <td>short</td>\n",
       "      <td>H</td>\n",
       "      <td>48</td>\n",
       "      <td>1</td>\n",
       "      <td>20</td>\n",
       "      <td>17544</td>\n",
       "      <td>719304</td>\n",
       "      <td>Energy</td>\n",
       "    </tr>\n",
       "    <tr>\n",
       "      <th>1</th>\n",
       "      <td>bull</td>\n",
       "      <td>medium</td>\n",
       "      <td>H</td>\n",
       "      <td>480</td>\n",
       "      <td>1</td>\n",
       "      <td>4</td>\n",
       "      <td>17544</td>\n",
       "      <td>719304</td>\n",
       "      <td>Energy</td>\n",
       "    </tr>\n",
       "    <tr>\n",
       "      <th>2</th>\n",
       "      <td>bull</td>\n",
       "      <td>long</td>\n",
       "      <td>H</td>\n",
       "      <td>720</td>\n",
       "      <td>1</td>\n",
       "      <td>3</td>\n",
       "      <td>17544</td>\n",
       "      <td>719304</td>\n",
       "      <td>Energy</td>\n",
       "    </tr>\n",
       "    <tr>\n",
       "      <th>3</th>\n",
       "      <td>cmip6_1885</td>\n",
       "      <td>short</td>\n",
       "      <td>6H</td>\n",
       "      <td>48</td>\n",
       "      <td>53</td>\n",
       "      <td>16</td>\n",
       "      <td>7300</td>\n",
       "      <td>3169484800</td>\n",
       "      <td>Climate</td>\n",
       "    </tr>\n",
       "    <tr>\n",
       "      <th>4</th>\n",
       "      <td>cmip6_1885</td>\n",
       "      <td>medium</td>\n",
       "      <td>6H</td>\n",
       "      <td>480</td>\n",
       "      <td>53</td>\n",
       "      <td>2</td>\n",
       "      <td>7300</td>\n",
       "      <td>3169484800</td>\n",
       "      <td>Climate</td>\n",
       "    </tr>\n",
       "  </tbody>\n",
       "</table>\n",
       "</div>"
      ],
      "text/plain": [
       "         name    term freq  ...  _min_series_length  sum_series_length   domain\n",
       "0        bull   short    H  ...               17544             719304   Energy\n",
       "1        bull  medium    H  ...               17544             719304   Energy\n",
       "2        bull    long    H  ...               17544             719304   Energy\n",
       "3  cmip6_1885   short   6H  ...                7300         3169484800  Climate\n",
       "4  cmip6_1885  medium   6H  ...                7300         3169484800  Climate\n",
       "\n",
       "[5 rows x 9 columns]"
      ]
     },
     "execution_count": 46,
     "metadata": {},
     "output_type": "execute_result"
    }
   ],
   "source": [
    "output_path = input_path.parent / \"dataset_info.csv\"\n",
    "df_output = pd.read_csv(output_path)\n",
    "df_output.head()"
   ]
  },
  {
   "cell_type": "code",
   "execution_count": 47,
   "metadata": {},
   "outputs": [],
   "source": [
    "df_output[\"domain\"] = \"\"\n",
    "df_output.to_csv(output_path, index=False)"
   ]
  },
  {
   "cell_type": "code",
   "execution_count": 48,
   "metadata": {},
   "outputs": [],
   "source": [
    "for i, input_row in df_input.iterrows():\n",
    "    for j, output_row in df_output.iterrows():\n",
    "        if input_row[\"name\"] == output_row[\"name\"]:\n",
    "            df_output.at[j, \"domain\"] = input_row[\"domain\"]\n",
    "\n",
    "\n",
    "df_output.to_csv(output_path, index=False)"
   ]
  },
  {
   "cell_type": "code",
   "execution_count": 49,
   "metadata": {},
   "outputs": [
    {
     "data": {
      "text/plain": [
       "201"
      ]
     },
     "execution_count": 49,
     "metadata": {},
     "output_type": "execute_result"
    }
   ],
   "source": [
    "num_empty = (df_output[\"domain\"] == \"\").sum()\n",
    "num_empty"
   ]
  },
  {
   "cell_type": "code",
   "execution_count": 50,
   "metadata": {},
   "outputs": [],
   "source": [
    "for i, input_row in df_input.iterrows():\n",
    "    cleaned_name = input_row[\"name\"].split(\"_\")[0]\n",
    "\n",
    "    indices = []\n",
    "\n",
    "    for j, output_row in df_output.iterrows():\n",
    "        if output_row[\"name\"].startswith(cleaned_name):\n",
    "            indices.append(j)\n",
    "\n",
    "    for index in indices:\n",
    "        df_output.at[index, \"domain\"] = input_row[\"domain\"]\n",
    "\n",
    "\n",
    "df_output.to_csv(output_path, index=False)"
   ]
  },
  {
   "cell_type": "code",
   "execution_count": 51,
   "metadata": {},
   "outputs": [
    {
     "name": "stdout",
     "output_type": "stream",
     "text": [
      "3\n",
      "    name    term freq  ...  _min_series_length  sum_series_length  domain\n",
      "387  lcl   short    H  ...                 193            9543553        \n",
      "388  lcl  medium    H  ...                 193            9543553        \n",
      "389  lcl    long    H  ...                 193            9543553        \n",
      "\n",
      "[3 rows x 9 columns]\n"
     ]
    }
   ],
   "source": [
    "num_empty = (df_output[\"domain\"] == \"\").sum()\n",
    "print(num_empty)\n",
    "print(df_output[df_output[\"domain\"] == \"\"])"
   ]
  },
  {
   "cell_type": "code",
   "execution_count": 52,
   "metadata": {},
   "outputs": [
    {
     "name": "stdout",
     "output_type": "stream",
     "text": [
      "    name    term freq  ...  _min_series_length  sum_series_length  domain\n",
      "387  lcl   short    H  ...                 193            9543553  Energy\n",
      "388  lcl  medium    H  ...                 193            9543553  Energy\n",
      "389  lcl    long    H  ...                 193            9543553  Energy\n",
      "\n",
      "[3 rows x 9 columns]\n"
     ]
    }
   ],
   "source": [
    "df_output.loc[df_output[\"domain\"] == \"\", \"domain\"] = \"Energy\"\n",
    "print(df_output.iloc[387:390])"
   ]
  },
  {
   "cell_type": "code",
   "execution_count": 54,
   "metadata": {},
   "outputs": [
    {
     "name": "stdout",
     "output_type": "stream",
     "text": [
      "0\n",
      "Empty DataFrame\n",
      "Columns: [name, term, freq, prediction_length, target_dim, windows, _min_series_length, sum_series_length, domain]\n",
      "Index: []\n"
     ]
    }
   ],
   "source": [
    "num_empty = (df_output[\"domain\"] == \"\").sum()\n",
    "print(num_empty)\n",
    "print(df_output[df_output[\"domain\"] == \"\"])\n",
    "df_output.to_csv(output_path, index=False)"
   ]
  }
 ],
 "metadata": {
  "kernelspec": {
   "display_name": "gift",
   "language": "python",
   "name": "python3"
  },
  "language_info": {
   "codemirror_mode": {
    "name": "ipython",
    "version": 3
   },
   "file_extension": ".py",
   "mimetype": "text/x-python",
   "name": "python",
   "nbconvert_exporter": "python",
   "pygments_lexer": "ipython3",
   "version": "3.11.11"
  }
 },
 "nbformat": 4,
 "nbformat_minor": 2
}
